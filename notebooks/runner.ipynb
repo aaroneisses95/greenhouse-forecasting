{
 "cells": [
  {
   "cell_type": "markdown",
   "id": "cfca111f",
   "metadata": {},
   "source": [
    "# Runner notebook\n",
    "\n",
    "In this notebook you can run the model that you just trained. In the second section (2. User input) it expects the experiment id of the experiment that was just run. It is optional to change the dummy data sets to your own data sets. It is important that the only datasets you can use as input are the weather and greenhouse climate datasets. \n"
   ]
  },
  {
   "cell_type": "markdown",
   "id": "518487aa",
   "metadata": {},
   "source": [
    "<a id='f'></a>\n",
    "## 1. Imports\n",
    "\n",
    "Importing the necessary packages"
   ]
  },
  {
   "cell_type": "code",
   "execution_count": 1,
   "id": "4f4ad0ee",
   "metadata": {},
   "outputs": [],
   "source": [
    "import os\n",
    "import pickle\n",
    "\n",
    "import pandas as pd\n",
    "import numpy as np\n",
    "import matplotlib.pyplot as plt\n",
    "\n",
    "from sklearn.metrics import mean_absolute_error, r2_score, mean_squared_error, mean_absolute_percentage_error"
   ]
  },
  {
   "cell_type": "markdown",
   "id": "334a8d47",
   "metadata": {},
   "source": [
    "## 2. User input\n",
    "\n",
    "Fill in your input. It expects:\n",
    "- experiment_id: This is the id that is given when you run the project with MLflow. When the run is finished, you can see at the end at your terminal.\n",
    "- file_name_greenhouse (OPTIONAL): Name of the greenhouse climate dataset (csv)\n",
    "- file_name_weather (OPTIONAL): Name of the weather dataset (csv)"
   ]
  },
  {
   "cell_type": "code",
   "execution_count": 2,
   "id": "34aaf6c0",
   "metadata": {},
   "outputs": [],
   "source": [
    "experiment_id = \"USER_INPUT\"\n",
    "file_name_greenhouse = \"dummy_greenhouse.csv\"\n",
    "file_name_weather = \"dummy_weather.csv\""
   ]
  },
  {
   "cell_type": "markdown",
   "id": "21dc9bbd",
   "metadata": {},
   "source": [
    "## 3. Load the model\n",
    "\n",
    "Loads the model using the pickle package."
   ]
  },
  {
   "cell_type": "code",
   "execution_count": null,
   "id": "cd3d71c3",
   "metadata": {},
   "outputs": [],
   "source": [
    "path_model = os.path.abspath(f\"../../mlruns/0/{experiment_id}/artifacts/model/model.pkl\")\n",
    "model = pickle.load(open(path_model, 'rb'))"
   ]
  },
  {
   "cell_type": "markdown",
   "id": "c6feaf59",
   "metadata": {},
   "source": [
    "## 4. Load the test data\n",
    "\n",
    "Loads the test data into pandas dataframes"
   ]
  },
  {
   "cell_type": "code",
   "execution_count": null,
   "id": "d73eaf27",
   "metadata": {},
   "outputs": [],
   "source": [
    "path_greenhouse_csv = os.path.abspath(f'input/{file_name_greenhouse}')\n",
    "path_weather_csv = os.path.abspath(f'input/{file_name_weather}')"
   ]
  },
  {
   "cell_type": "code",
   "execution_count": null,
   "id": "c6907de7",
   "metadata": {},
   "outputs": [],
   "source": [
    "df_greenhouse = pd.read_csv(path_greenhouse_csv)\n",
    "df_weather = pd.read_csv(path_weather_csv)"
   ]
  },
  {
   "cell_type": "markdown",
   "id": "dd5bd9d8",
   "metadata": {},
   "source": [
    "## 5. Preprocess the data\n",
    "\n",
    "Preprocesses the data"
   ]
  },
  {
   "cell_type": "code",
   "execution_count": null,
   "id": "ed07098a",
   "metadata": {},
   "outputs": [],
   "source": [
    "df_greenhouse = df_greenhouse.set_index('time')\n",
    "df_weather = df_weather.set_index('time')"
   ]
  },
  {
   "cell_type": "code",
   "execution_count": null,
   "id": "d16cb8f0",
   "metadata": {},
   "outputs": [],
   "source": [
    "data = df_weather.join(df_greenhouse)"
   ]
  },
  {
   "cell_type": "code",
   "execution_count": null,
   "id": "067d0bb2",
   "metadata": {},
   "outputs": [],
   "source": [
    "# Feature selection\n",
    "data = data[[\"Iglob\", \"PARout\", \"Rhout\", \"Tout\", \"HumDef\", \"Tair\", \"t_heat_sp\"]]"
   ]
  },
  {
   "cell_type": "code",
   "execution_count": null,
   "id": "7259ecb6",
   "metadata": {},
   "outputs": [],
   "source": [
    "# Fill in the empty values\n",
    "data = data.fillna(data.mean())"
   ]
  },
  {
   "cell_type": "code",
   "execution_count": null,
   "id": "8a688910",
   "metadata": {},
   "outputs": [],
   "source": [
    "# Feature engineering\n",
    "data = (data\n",
    "       .assign(t=lambda df: np.arange(len(df.index)) + 1,\n",
    "            hour_of_day=lambda df: np.arange(len(df.index)) + 1,\n",
    "            month=6))"
   ]
  },
  {
   "cell_type": "code",
   "execution_count": null,
   "id": "45402797",
   "metadata": {},
   "outputs": [],
   "source": [
    "data['model_pred'] = model.predict(data.drop(columns=\"Tair\"))"
   ]
  },
  {
   "cell_type": "markdown",
   "id": "27bc6fa1",
   "metadata": {},
   "source": [
    "## 6. Output\n",
    "\n",
    "Gives the metrics of running the test data on the model."
   ]
  },
  {
   "cell_type": "code",
   "execution_count": null,
   "id": "ca6d0531",
   "metadata": {},
   "outputs": [],
   "source": [
    "# Calculate the matrics\n",
    "mae = mean_absolute_error(data.Tair, data.model_pred).round(3)\n",
    "mse = mean_squared_error(data.Tair, data.model_pred).round(3)\n",
    "rmse = np.sqrt(mean_squared_error(data.Tair, data.model_pred)).round(3)\n",
    "mape = mean_absolute_percentage_error(data.Tair, data.model_pred).round(3)\n",
    "r2 = r2_score(data.Tair, data.model_pred).round(3)\n",
    "\n",
    "print(f'MAE: {mae}')\n",
    "print(f'MSE: {mse}')\n",
    "print(f'RMSE: {rmse}')\n",
    "print(f'MAPE: {mape}')\n",
    "print(f'r2: {r2}')"
   ]
  },
  {
   "cell_type": "code",
   "execution_count": null,
   "id": "df9e5d31",
   "metadata": {},
   "outputs": [],
   "source": [
    "# Plot the test data with the predictions\n",
    "fig, ax = plt.subplots(figsize=(18,6))\n",
    "data[['Tair']].plot(ax=ax, c='blue')\n",
    "data[['model_pred']].plot(ax=ax, c='red')\n",
    "ax.legend([\"test set\", \"model prediction\"], prop={'size': 15});"
   ]
  },
  {
   "cell_type": "code",
   "execution_count": null,
   "id": "403c1c0e",
   "metadata": {},
   "outputs": [],
   "source": []
  },
  {
   "cell_type": "code",
   "execution_count": null,
   "id": "7bf1d9eb",
   "metadata": {},
   "outputs": [],
   "source": []
  }
 ],
 "metadata": {
  "kernelspec": {
   "display_name": "Python 3 (ipykernel)",
   "language": "python",
   "name": "python3"
  },
  "language_info": {
   "codemirror_mode": {
    "name": "ipython",
    "version": 3
   },
   "file_extension": ".py",
   "mimetype": "text/x-python",
   "name": "python",
   "nbconvert_exporter": "python",
   "pygments_lexer": "ipython3",
   "version": "3.10.9"
  }
 },
 "nbformat": 4,
 "nbformat_minor": 5
}
